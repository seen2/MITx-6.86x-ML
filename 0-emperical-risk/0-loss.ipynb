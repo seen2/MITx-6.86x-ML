{
 "cells": [
  {
   "cell_type": "code",
   "execution_count": 2,
   "metadata": {},
   "outputs": [],
   "source": [
    "import numpy as np\n",
    "\n",
    "def single_hinge_loss(x,y,theta):\n",
    "    z=y-np.dot(x,theta)\n",
    "    if z>=1:\n",
    "        return 0\n",
    "    else:\n",
    "        return (1-z)\n"
   ]
  },
  {
   "cell_type": "code",
   "execution_count": 6,
   "metadata": {},
   "outputs": [],
   "source": [
    "import numpy as np\n",
    "\n",
    "def single_square_loss(x,y,theta):\n",
    "    z=y-np.dot(x,theta)\n",
    "    return z**2/2"
   ]
  },
  {
   "cell_type": "code",
   "execution_count": 10,
   "metadata": {},
   "outputs": [
    {
     "name": "stdout",
     "output_type": "stream",
     "text": [
      "Hinge loss: [1.25]\n",
      "Square loss: [0.1475]\n"
     ]
    }
   ],
   "source": [
    "x=np.array([[1,0,1],[1,1,1],[1,1,-1],[-1,1,1]])\n",
    "y=np.array([2,2.7,-0.7,2])\n",
    "theta=np.array([0,1,2])\n",
    "#hinge loss\n",
    "result=sum([single_hinge_loss(xi,yi,theta) for xi,yi in zip(x,y) ])/y.shape\n",
    "print('Hinge loss:',result)\n",
    "#square loss\n",
    "result=sum([single_square_loss(xi,yi,theta) for xi,yi in zip(x,y) ])/y.shape\n",
    "print('Square loss:',result)"
   ]
  }
 ],
 "metadata": {
  "kernelspec": {
   "display_name": "6.86x",
   "language": "python",
   "name": "python3"
  },
  "language_info": {
   "codemirror_mode": {
    "name": "ipython",
    "version": 3
   },
   "file_extension": ".py",
   "mimetype": "text/x-python",
   "name": "python",
   "nbconvert_exporter": "python",
   "pygments_lexer": "ipython3",
   "version": "3.8.17"
  },
  "orig_nbformat": 4
 },
 "nbformat": 4,
 "nbformat_minor": 2
}
