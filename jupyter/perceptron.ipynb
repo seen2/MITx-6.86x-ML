{
 "cells": [
  {
   "cell_type": "code",
   "execution_count": 5,
   "metadata": {},
   "outputs": [],
   "source": [
    "import numpy as np;\n",
    "def verifyTheeta(theeta,theeta0,x,y):\n",
    "    theeta=np.array(theeta);\n",
    "    theeta0=np.array(theeta0);\n",
    "    flag=True\n",
    "    for i in range(len(x)):\n",
    "        xi=np.array(x[i]);yi=np.array(y[i])\n",
    "        test=yi*(np.dot(xi,theeta)+theeta0)\n",
    "        if(test<=0):\n",
    "            flag=False\n",
    "            break\n",
    "    return (flag,i)\n",
    "            \n",
    "\n",
    "\n",
    "def perceptron(x,y):\n",
    "    n=len(x)\n",
    "    i=0;theeta=np.array([0,0]);theeta0=0;\n",
    "    progression=[];\n",
    "    while True:\n",
    "        conditon,i=verifyTheeta(theeta=theeta,theeta0=theeta0,x=x,y=y)\n",
    "        if conditon:\n",
    "            break\n",
    "        else:\n",
    "            if i==n:\n",
    "                i=0\n",
    "            else:\n",
    "                xi=np.array(x[i]);yi=np.array(y[i])\n",
    "                # test=yi*(np.dot(xi,theeta)+theeta0)\n",
    "                theeta=theeta+xi*yi\n",
    "                theeta0=theeta0 +yi\n",
    "                progression.append([theeta,theeta0])\n",
    "    return (theeta,theeta0,progression)\n"
   ]
  },
  {
   "cell_type": "code",
   "execution_count": 6,
   "metadata": {},
   "outputs": [
    {
     "data": {
      "text/plain": [
       "(array([-3,  3]),\n",
       " -3,\n",
       " [[array([-4,  2]), 1],\n",
       "  [array([-3,  3]), 0],\n",
       "  [array([-2,  4]), -1],\n",
       "  [array([-4,  2]), -2],\n",
       "  [array([-3,  3]), -3]])"
      ]
     },
     "execution_count": 6,
     "metadata": {},
     "output_type": "execute_result"
    }
   ],
   "source": [
    "perceptron(x=[[-4,2],[-2,1],[-1,-1],[2,2],[1,-2]],y=[1,1,-1,-1,-1])"
   ]
  }
 ],
 "metadata": {
  "kernelspec": {
   "display_name": "6.86x",
   "language": "python",
   "name": "python3"
  },
  "language_info": {
   "codemirror_mode": {
    "name": "ipython",
    "version": 3
   },
   "file_extension": ".py",
   "mimetype": "text/x-python",
   "name": "python",
   "nbconvert_exporter": "python",
   "pygments_lexer": "ipython3",
   "version": "3.8.17"
  },
  "orig_nbformat": 4
 },
 "nbformat": 4,
 "nbformat_minor": 2
}
