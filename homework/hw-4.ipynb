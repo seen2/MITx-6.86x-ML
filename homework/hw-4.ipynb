{
 "cells": [
  {
   "cell_type": "code",
   "execution_count": 5,
   "metadata": {},
   "outputs": [],
   "source": [
    "import numpy as np"
   ]
  },
  {
   "cell_type": "code",
   "execution_count": 20,
   "metadata": {},
   "outputs": [],
   "source": [
    "def find_cluster(representative,point):\n",
    "    a=[np.linalg.norm((zj-point)) for zj in representative]\n",
    "    j=a.index(min(a))\n",
    "    return j"
   ]
  },
  {
   "cell_type": "code",
   "execution_count": 7,
   "metadata": {},
   "outputs": [],
   "source": [
    "def find_representative(zj,cluster):\n",
    "    a=[np.linalg.norm((zj-point)) for point in cluster]\n",
    "    j=a.index(min(a))\n",
    "    return cluster[j]"
   ]
  },
  {
   "cell_type": "code",
   "execution_count": 41,
   "metadata": {},
   "outputs": [],
   "source": [
    "def k_means_single(X,Z,K,d):\n",
    "    shape=(K,X.shape[0],X.shape[1])\n",
    "    clusters=np.zeros(shape)\n",
    "    print(clusters)\n",
    "    for i in range(X.shape[0]):\n",
    "        j=find_cluster(Z,X[i])\n",
    "        print(X[i])\n",
    "        clusters[j]=X[i]\n",
    "        \n",
    "        # print(\"cluster\",clusters)\n",
    "        Z[j]=find_representative(Z[j],clusters[j])\n",
    "    # clusters,Z=np.array(clusters),np.array(Z)\n",
    "    # print(\">>>>>>>>>>>>>>>>>>>>>>>>>\")\n",
    "    # print(\"cluster\",clusters)\n",
    "    # # print(represntative.shape)\n",
    "    return (clusters,Z)\n"
   ]
  },
  {
   "cell_type": "code",
   "execution_count": 42,
   "metadata": {},
   "outputs": [
    {
     "name": "stdout",
     "output_type": "stream",
     "text": [
      "[[[0. 0.]\n",
      "  [0. 0.]\n",
      "  [0. 0.]\n",
      "  [0. 0.]]\n",
      "\n",
      " [[0. 0.]\n",
      "  [0. 0.]\n",
      "  [0. 0.]\n",
      "  [0. 0.]]]\n",
      "[ 0 -6]\n",
      "[4 4]\n",
      "[0 0]\n",
      "[-5  2]\n",
      "-------C-------\n",
      "[[-5.  2.]\n",
      " [-5.  2.]\n",
      " [-5.  2.]\n",
      " [-5.  2.]]\n",
      "-------C-------\n",
      "[[ 0. -6.]\n",
      " [ 0. -6.]\n",
      " [ 0. -6.]\n",
      " [ 0. -6.]]\n",
      "-----Z---------\n",
      "[-5  2]\n",
      "-----Z---------\n",
      "[ 0 -6]\n"
     ]
    }
   ],
   "source": [
    "X=np.array([[0,-6],[4,4],[0,0],[-5,2]])\n",
    "K=2\n",
    "Z=np.array([[-5,2],[0,-6]])\n",
    "C=[]\n",
    "while True:\n",
    "    C,Z_updated=k_means_single(X,Z,K,2)\n",
    "    if np.allclose(Z,Z_updated):\n",
    "        break\n",
    "    else:\n",
    "        Z=Z_updated\n",
    "        # print(Z,C)\n",
    "for cluster in C:\n",
    "    print(\"-------C-------\")\n",
    "    print(cluster)\n",
    "for rep in Z:\n",
    "    print(\"-----Z---------\")\n",
    "    print(rep)\n"
   ]
  },
  {
   "cell_type": "code",
   "execution_count": 3,
   "metadata": {},
   "outputs": [],
   "source": [
    "import numpy as np\n",
    "\n",
    "def kmedoids(X, k,medoids):\n",
    "  \"\"\"Implements the K-medoids algorithm with the L1 norm.\n",
    "\n",
    "  Args:\n",
    "    X: A NumPy array of data points.\n",
    "    k: The number of clusters.\n",
    "\n",
    "  Returns:\n",
    "    A tuple of two arrays:\n",
    "      * The medoids.\n",
    "      * The cluster assignments.\n",
    "  \"\"\"\n",
    "\n",
    "  # Initialize the medoids\n",
    "  medoids = X[np.random.choice(X.shape[0], size=k)]\n",
    "\n",
    "  # Assign each data point to the nearest medoid\n",
    "  cluster_assignments = np.argmin(np.linalg.norm(X[:, np.newaxis] - medoids, ord=1, axis=2), axis=1)\n",
    "\n",
    "  while True:\n",
    "    # Update the medoids\n",
    "    new_medoids = []\n",
    "    for i in range(k):\n",
    "      cluster_i = X[cluster_assignments == i]\n",
    "      new_medoid = np.median(cluster_i, axis=0)\n",
    "      new_medoids.append(new_medoid)\n",
    "\n",
    "    # Check for convergence\n",
    "    if np.array_equal(medoids, new_medoids):\n",
    "      break\n",
    "\n",
    "    medoids = np.array(new_medoids)\n",
    "\n",
    "  return medoids, cluster_assignments"
   ]
  },
  {
   "cell_type": "code",
   "execution_count": 4,
   "metadata": {},
   "outputs": [
    {
     "data": {
      "text/plain": [
       "(array([[0., 0.],\n",
       "        [4., 4.]]),\n",
       " array([0, 1, 0, 0]))"
      ]
     },
     "execution_count": 4,
     "metadata": {},
     "output_type": "execute_result"
    }
   ],
   "source": [
    "X=np.array([[0,-6],[4,4],[0,0],[-5,2]])\n",
    "K=2\n",
    "Z=np.array([[-5,2],[0,-6]])\n",
    "kmedoids(X,K,Z)"
   ]
  }
 ],
 "metadata": {
  "kernelspec": {
   "display_name": "Python 3",
   "language": "python",
   "name": "python3"
  },
  "language_info": {
   "codemirror_mode": {
    "name": "ipython",
    "version": 3
   },
   "file_extension": ".py",
   "mimetype": "text/x-python",
   "name": "python",
   "nbconvert_exporter": "python",
   "pygments_lexer": "ipython3",
   "version": "3.6.13"
  }
 },
 "nbformat": 4,
 "nbformat_minor": 2
}
