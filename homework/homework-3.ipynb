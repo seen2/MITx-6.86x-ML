{
 "cells": [
  {
   "cell_type": "code",
   "execution_count": 1,
   "metadata": {},
   "outputs": [],
   "source": [
    "import numpy as np\n",
    "wfh=0;wfx=0;bf=-100;wch=-100\n",
    "wih=0;wix=100;bi=100;wcx=50\n",
    "woh=100;wox=100;b0=0;bc=0"
   ]
  },
  {
   "cell_type": "code",
   "execution_count": 11,
   "metadata": {},
   "outputs": [],
   "source": [
    "import numpy as np\n",
    "\n",
    "def sigmoid(x):\n",
    "    if x>=1:\n",
    "        return 1\n",
    "    elif x<=-1:\n",
    "        return 0\n",
    "    else:\n",
    "        return 1 / (1 + np.exp(-x))\n"
   ]
  },
  {
   "cell_type": "code",
   "execution_count": 12,
   "metadata": {},
   "outputs": [],
   "source": [
    "def tanh_modified(x):\n",
    "    if x>=1:\n",
    "        return 1\n",
    "    elif x<=-1:\n",
    "        return -1\n",
    "    else:\n",
    "        return np.tanh(x)\n"
   ]
  },
  {
   "cell_type": "code",
   "execution_count": 31,
   "metadata": {},
   "outputs": [
    {
     "name": "stdout",
     "output_type": "stream",
     "text": [
      "[0, 0, 1, -1, 0, -1]\n"
     ]
    }
   ],
   "source": [
    "op=[];x=np.array([0,0,1,1,1,0]);ht=0;ct=0\n",
    "for t in range(x.shape[0]):\n",
    "    ft=sigmoid(wfh*ht+wfx*x[t]+bf)\n",
    "    it=sigmoid(wih*ht+wix*x[t]+bi)\n",
    "    ot=sigmoid(woh*ht+wox*x[t]+b0)\n",
    "    ct=np.outer(ft,ct)+np.outer(it,tanh_modified(wch*ht+wcx*x[t]+bc))\n",
    "    ht=np.outer(ot,tanh_modified(ct))\n",
    "    if(np.abs(ht[0][0])<=0.5):\n",
    "        op.append(0)\n",
    "    else:\n",
    "        op.append(ht[0][0])\n",
    "print(op)"
   ]
  }
 ],
 "metadata": {
  "kernelspec": {
   "display_name": "6.86x",
   "language": "python",
   "name": "python3"
  },
  "language_info": {
   "codemirror_mode": {
    "name": "ipython",
    "version": 3
   },
   "file_extension": ".py",
   "mimetype": "text/x-python",
   "name": "python",
   "nbconvert_exporter": "python",
   "pygments_lexer": "ipython3",
   "version": "3.8.17"
  }
 },
 "nbformat": 4,
 "nbformat_minor": 2
}
