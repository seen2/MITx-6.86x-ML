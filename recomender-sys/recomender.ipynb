{
 "cells": [
  {
   "cell_type": "code",
   "execution_count": 1,
   "metadata": {},
   "outputs": [
    {
     "name": "stdout",
     "output_type": "stream",
     "text": [
      "   2\n",
      "1 x - 2 x + 1\n"
     ]
    }
   ],
   "source": [
    "import numpy as np\n",
    "p = np.poly1d([1, -2, 1]) # create a polynomial object for (x-1)^2\n",
    "print(p)\n",
    "#    2\n",
    "# 1 x - 2 x + 1\n"
   ]
  },
  {
   "cell_type": "code",
   "execution_count": 2,
   "metadata": {},
   "outputs": [
    {
     "name": "stdout",
     "output_type": "stream",
     "text": [
      "Pol: 3*1-x**2 + 2*1-x + 1\n",
      "Def Pol 6*1-x + 2\n"
     ]
    }
   ],
   "source": [
    "import sympy as sp\n",
    "x = sp.Symbol('1-x') # create a symbol for x\n",
    "p = 3*x**2 + 2*x + 1 # define the polynomial expression using sympy expressions\n",
    "print(\"Pol:\",p)\n",
    "# 3*x**2 + 2*x + 1\n",
    "dp=p.diff()\n",
    "\n",
    "print(\"Def Pol\",dp)\n"
   ]
  },
  {
   "cell_type": "code",
   "execution_count": 3,
   "metadata": {},
   "outputs": [
    {
     "name": "stdout",
     "output_type": "stream",
     "text": [
      "[[4*u1 2*u1 u1]\n",
      " [4*u2 2*u2 u2]\n",
      " [4*u3 2*u3 u3]\n",
      " [4*u4 2*u4 u4]]\n"
     ]
    }
   ],
   "source": [
    "v=sp.Matrix([4,2,1])\n",
    "u1,u2,u3,u4=sp.symbols('u1 u2 u3 u4')\n",
    "u=sp.Matrix([u1,u2,u3,u4])\n",
    "X=np.outer(u.transpose(),v.transpose())\n",
    "print(X)\n",
    "Y=np.array([[5,0,7],[0,2,0],[4,0,0],[0,3,6]])\n",
    "L=1"
   ]
  },
  {
   "cell_type": "code",
   "execution_count": 5,
   "metadata": {},
   "outputs": [
    {
     "ename": "ValueError",
     "evalue": "\nSince there is more than one variable in the expression, the\nvariable(s) of differentiation must be supplied to differentiate u3 +\n0.5*(5 - 4*u1)**2 + 0.5*(7 - u1)**2",
     "output_type": "error",
     "traceback": [
      "\u001b[0;31m---------------------------------------------------------------------------\u001b[0m",
      "\u001b[0;31mValueError\u001b[0m                                Traceback (most recent call last)",
      "\u001b[1;32m/workspaces/MITx-6.86x-ML/recomender-sys/recomender.ipynb Cell 4\u001b[0m line \u001b[0;36m9\n\u001b[1;32m      <a href='vscode-notebook-cell://codespaces%2Borganic-space-enigma-w95rp9jvgw93v6wq/workspaces/MITx-6.86x-ML/recomender-sys/recomender.ipynb#W3sdnNjb2RlLXJlbW90ZQ%3D%3D?line=6'>7</a>\u001b[0m     \u001b[39mif\u001b[39;00m \u001b[39m0\u001b[39m \u001b[39min\u001b[39;00m row_y:\n\u001b[1;32m      <a href='vscode-notebook-cell://codespaces%2Borganic-space-enigma-w95rp9jvgw93v6wq/workspaces/MITx-6.86x-ML/recomender-sys/recomender.ipynb#W3sdnNjb2RlLXJlbW90ZQ%3D%3D?line=7'>8</a>\u001b[0m         j\u001b[39m=\u001b[39mj\u001b[39m+\u001b[39mu_el           \n\u001b[0;32m----> <a href='vscode-notebook-cell://codespaces%2Borganic-space-enigma-w95rp9jvgw93v6wq/workspaces/MITx-6.86x-ML/recomender-sys/recomender.ipynb#W3sdnNjb2RlLXJlbW90ZQ%3D%3D?line=8'>9</a>\u001b[0m     jd\u001b[39m=\u001b[39mj\u001b[39m.\u001b[39;49mdiff()\n\u001b[1;32m     <a href='vscode-notebook-cell://codespaces%2Borganic-space-enigma-w95rp9jvgw93v6wq/workspaces/MITx-6.86x-ML/recomender-sys/recomender.ipynb#W3sdnNjb2RlLXJlbW90ZQ%3D%3D?line=9'>10</a>\u001b[0m     V\u001b[39m.\u001b[39mappend(sp\u001b[39m.\u001b[39msolve(jd,u_el)[\u001b[39m0\u001b[39m])\n\u001b[1;32m     <a href='vscode-notebook-cell://codespaces%2Borganic-space-enigma-w95rp9jvgw93v6wq/workspaces/MITx-6.86x-ML/recomender-sys/recomender.ipynb#W3sdnNjb2RlLXJlbW90ZQ%3D%3D?line=11'>12</a>\u001b[0m \u001b[39mprint\u001b[39m(V)\n",
      "File \u001b[0;32m/opt/conda/envs/6.86x/lib/python3.8/site-packages/sympy/core/expr.py:3555\u001b[0m, in \u001b[0;36mExpr.diff\u001b[0;34m(self, *symbols, **assumptions)\u001b[0m\n\u001b[1;32m   3553\u001b[0m \u001b[39mdef\u001b[39;00m \u001b[39mdiff\u001b[39m(\u001b[39mself\u001b[39m, \u001b[39m*\u001b[39msymbols, \u001b[39m*\u001b[39m\u001b[39m*\u001b[39massumptions):\n\u001b[1;32m   3554\u001b[0m     assumptions\u001b[39m.\u001b[39msetdefault(\u001b[39m\"\u001b[39m\u001b[39mevaluate\u001b[39m\u001b[39m\"\u001b[39m, \u001b[39mTrue\u001b[39;00m)\n\u001b[0;32m-> 3555\u001b[0m     \u001b[39mreturn\u001b[39;00m _derivative_dispatch(\u001b[39mself\u001b[39;49m, \u001b[39m*\u001b[39;49msymbols, \u001b[39m*\u001b[39;49m\u001b[39m*\u001b[39;49massumptions)\n",
      "File \u001b[0;32m/opt/conda/envs/6.86x/lib/python3.8/site-packages/sympy/core/function.py:1914\u001b[0m, in \u001b[0;36m_derivative_dispatch\u001b[0;34m(expr, *variables, **kwargs)\u001b[0m\n\u001b[1;32m   1912\u001b[0m     \u001b[39mfrom\u001b[39;00m \u001b[39msympy\u001b[39;00m\u001b[39m.\u001b[39;00m\u001b[39mtensor\u001b[39;00m\u001b[39m.\u001b[39;00m\u001b[39marray\u001b[39;00m\u001b[39m.\u001b[39;00m\u001b[39marray_derivatives\u001b[39;00m \u001b[39mimport\u001b[39;00m ArrayDerivative\n\u001b[1;32m   1913\u001b[0m     \u001b[39mreturn\u001b[39;00m ArrayDerivative(expr, \u001b[39m*\u001b[39mvariables, \u001b[39m*\u001b[39m\u001b[39m*\u001b[39mkwargs)\n\u001b[0;32m-> 1914\u001b[0m \u001b[39mreturn\u001b[39;00m Derivative(expr, \u001b[39m*\u001b[39;49mvariables, \u001b[39m*\u001b[39;49m\u001b[39m*\u001b[39;49mkwargs)\n",
      "File \u001b[0;32m/opt/conda/envs/6.86x/lib/python3.8/site-packages/sympy/core/function.py:1259\u001b[0m, in \u001b[0;36mDerivative.__new__\u001b[0;34m(cls, expr, *variables, **kwargs)\u001b[0m\n\u001b[1;32m   1254\u001b[0m             \u001b[39mraise\u001b[39;00m \u001b[39mValueError\u001b[39;00m(filldedent(\u001b[39m'''\u001b[39m\n\u001b[1;32m   1255\u001b[0m \u001b[39m                Since there are no variables in the expression,\u001b[39m\n\u001b[1;32m   1256\u001b[0m \u001b[39m                the variable(s) of differentiation must be supplied\u001b[39m\n\u001b[1;32m   1257\u001b[0m \u001b[39m                to differentiate \u001b[39m\u001b[39m%s\u001b[39;00m\u001b[39m'''\u001b[39m \u001b[39m%\u001b[39m expr))\n\u001b[1;32m   1258\u001b[0m         \u001b[39melse\u001b[39;00m:\n\u001b[0;32m-> 1259\u001b[0m             \u001b[39mraise\u001b[39;00m \u001b[39mValueError\u001b[39;00m(filldedent(\u001b[39m'''\u001b[39m\n\u001b[1;32m   1260\u001b[0m \u001b[39m                Since there is more than one variable in the\u001b[39m\n\u001b[1;32m   1261\u001b[0m \u001b[39m                expression, the variable(s) of differentiation\u001b[39m\n\u001b[1;32m   1262\u001b[0m \u001b[39m                must be supplied to differentiate \u001b[39m\u001b[39m%s\u001b[39;00m\u001b[39m'''\u001b[39m \u001b[39m%\u001b[39m expr))\n\u001b[1;32m   1264\u001b[0m \u001b[39m# Split the list of variables into a list of the variables we are diff\u001b[39;00m\n\u001b[1;32m   1265\u001b[0m \u001b[39m# wrt, where each element of the list has the form (s, count) where\u001b[39;00m\n\u001b[1;32m   1266\u001b[0m \u001b[39m# s is the entity to diff wrt and count is the order of the\u001b[39;00m\n\u001b[1;32m   1267\u001b[0m \u001b[39m# derivative.\u001b[39;00m\n\u001b[1;32m   1268\u001b[0m variable_count \u001b[39m=\u001b[39m []\n",
      "\u001b[0;31mValueError\u001b[0m: \nSince there is more than one variable in the expression, the\nvariable(s) of differentiation must be supplied to differentiate u3 +\n0.5*(5 - 4*u1)**2 + 0.5*(7 - u1)**2"
     ]
    }
   ],
   "source": [
    "V=[]\n",
    "for row_x,row_y in zip(X,Y):\n",
    "    j=u1*0\n",
    "    for el_x,el_y,u_el in zip(row_x,row_y,u):\n",
    "        if el_y!=0:\n",
    "            j=j+(1/2)*(el_y-el_x)**2\n",
    "    if 0 in row_y:\n",
    "        j=j+L*(u_el)**2/2          \n",
    "    jd=j.diff()\n",
    "    V.append(sp.solve(jd,u_el)[0])\n",
    "\n",
    "print(V)\n",
    "#[1.28571428571429, 0.190476190476190, 0.761904761904762, 0.571428571428571]"
   ]
  },
  {
   "cell_type": "code",
   "execution_count": 32,
   "metadata": {},
   "outputs": [
    {
     "name": "stdout",
     "output_type": "stream",
     "text": [
      "[1.28571429 0.19047619 0.76190476 0.57142857]\n"
     ]
    }
   ],
   "source": [
    "res=np.array([27/21,4/21,16/21,12/21])\n",
    "print(res)"
   ]
  }
 ],
 "metadata": {
  "kernelspec": {
   "display_name": "6.86x",
   "language": "python",
   "name": "python3"
  },
  "language_info": {
   "codemirror_mode": {
    "name": "ipython",
    "version": 3
   },
   "file_extension": ".py",
   "mimetype": "text/x-python",
   "name": "python",
   "nbconvert_exporter": "python",
   "pygments_lexer": "ipython3",
   "version": "3.8.17"
  },
  "orig_nbformat": 4
 },
 "nbformat": 4,
 "nbformat_minor": 2
}
