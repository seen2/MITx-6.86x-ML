{
 "cells": [
  {
   "cell_type": "code",
   "execution_count": 1,
   "metadata": {},
   "outputs": [
    {
     "name": "stdout",
     "output_type": "stream",
     "text": [
      "   2\n",
      "1 x - 2 x + 1\n"
     ]
    }
   ],
   "source": [
    "import numpy as np\n",
    "p = np.poly1d([1, -2, 1]) # create a polynomial object for (x-1)^2\n",
    "print(p)\n",
    "#    2\n",
    "# 1 x - 2 x + 1\n"
   ]
  },
  {
   "cell_type": "code",
   "execution_count": 2,
   "metadata": {},
   "outputs": [
    {
     "name": "stdout",
     "output_type": "stream",
     "text": [
      "Pol: 3*1-x**2 + 2*1-x + 1\n",
      "Def Pol 6*1-x + 2\n"
     ]
    }
   ],
   "source": [
    "import sympy as sp\n",
    "x = sp.Symbol('1-x') # create a symbol for x\n",
    "p = 3*x**2 + 2*x + 1 # define the polynomial expression using sympy expressions\n",
    "print(\"Pol:\",p)\n",
    "# 3*x**2 + 2*x + 1\n",
    "dp=p.diff()\n",
    "\n",
    "print(\"Def Pol\",dp)\n"
   ]
  },
  {
   "cell_type": "code",
   "execution_count": 3,
   "metadata": {},
   "outputs": [
    {
     "name": "stdout",
     "output_type": "stream",
     "text": [
      "[[4*u1 2*u1 u1]\n",
      " [4*u2 2*u2 u2]\n",
      " [4*u3 2*u3 u3]\n",
      " [4*u4 2*u4 u4]]\n"
     ]
    }
   ],
   "source": [
    "v=sp.Matrix([4,2,1])\n",
    "u1,u2,u3,u4=sp.symbols('u1 u2 u3 u4')\n",
    "u=sp.Matrix([u1,u2,u3,u4])\n",
    "X=np.outer(u.transpose(),v.transpose())\n",
    "print(X)\n",
    "Y=np.array([[5,0,7],[0,2,0],[4,0,0],[0,3,6]])\n",
    "L=1"
   ]
  },
  {
   "cell_type": "code",
   "execution_count": 10,
   "metadata": {},
   "outputs": [
    {
     "name": "stdout",
     "output_type": "stream",
     "text": [
      "u1**2/2 + 0.5*(5 - 4*u1)**2 + 0.5*(7 - u1)**2\n",
      "u2**2/2 + 0.5*(2 - 2*u2)**2\n",
      "u3**2/2 + 0.5*(4 - 4*u3)**2\n",
      "u4**2/2 + 0.5*(3 - 2*u4)**2 + 0.5*(6 - u4)**2\n",
      "---------------------------------------\n",
      "[1.50000000000000, 0.800000000000000, 0.941176470588235, 2.00000000000000]\n"
     ]
    }
   ],
   "source": [
    "V=[]\n",
    "for row_x,row_y,u_el in zip(X,Y,u):\n",
    "    j=u1*0\n",
    "    for el_x,el_y in zip(row_x,row_y):\n",
    "        if el_y!=0:\n",
    "            j=j+(1/2)*(el_y-el_x)**2\n",
    "    if 0 in row_y:\n",
    "        j=j+L*(u_el)**2/2  \n",
    "    print(j)        \n",
    "    jd=j.diff()\n",
    "    V.append(sp.solve(jd,u_el)[0])\n",
    "print(\"---------------------------------------\")\n",
    "print(V)\n",
    "#[1.28571428571429, 0.190476190476190, 0.761904761904762, 0.571428571428571]"
   ]
  },
  {
   "cell_type": "code",
   "execution_count": 32,
   "metadata": {},
   "outputs": [
    {
     "name": "stdout",
     "output_type": "stream",
     "text": [
      "[1.28571429 0.19047619 0.76190476 0.57142857]\n"
     ]
    }
   ],
   "source": [
    "res=np.array([27/21,4/21,16/21,12/21])\n",
    "print(res)"
   ]
  }
 ],
 "metadata": {
  "kernelspec": {
   "display_name": "6.86x",
   "language": "python",
   "name": "python3"
  },
  "language_info": {
   "codemirror_mode": {
    "name": "ipython",
    "version": 3
   },
   "file_extension": ".py",
   "mimetype": "text/x-python",
   "name": "python",
   "nbconvert_exporter": "python",
   "pygments_lexer": "ipython3",
   "version": "3.8.17"
  },
  "orig_nbformat": 4
 },
 "nbformat": 4,
 "nbformat_minor": 2
}
