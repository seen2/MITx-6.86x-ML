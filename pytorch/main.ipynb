{
 "cells": [
  {
   "cell_type": "code",
   "execution_count": 40,
   "metadata": {},
   "outputs": [],
   "source": [
    "import torch"
   ]
  },
  {
   "cell_type": "code",
   "execution_count": 3,
   "metadata": {},
   "outputs": [
    {
     "name": "stdout",
     "output_type": "stream",
     "text": [
      "tensor([[0., 0., 0.],\n",
      "        [0., 0., 0.],\n",
      "        [0., 0., 0.],\n",
      "        [0., 0., 0.],\n",
      "        [0., 0., 0.]])\n",
      "torch.float32\n"
     ]
    }
   ],
   "source": [
    "z=torch.zeros(5,3)\n",
    "print(z)\n",
    "print(z.dtype)"
   ]
  },
  {
   "cell_type": "code",
   "execution_count": 4,
   "metadata": {},
   "outputs": [
    {
     "name": "stdout",
     "output_type": "stream",
     "text": [
      "tensor([[1, 1, 1],\n",
      "        [1, 1, 1],\n",
      "        [1, 1, 1],\n",
      "        [1, 1, 1],\n",
      "        [1, 1, 1]], dtype=torch.int16)\n",
      "torch.int16\n"
     ]
    }
   ],
   "source": [
    "z=torch.ones(5,3,dtype=torch.int16)\n",
    "print(z)\n",
    "print(z.dtype)"
   ]
  },
  {
   "cell_type": "code",
   "execution_count": 5,
   "metadata": {},
   "outputs": [
    {
     "data": {
      "text/plain": [
       "tensor([[-1.7954,  0.0740],\n",
       "        [-1.7532,  0.6246]])"
      ]
     },
     "execution_count": 5,
     "metadata": {},
     "output_type": "execute_result"
    }
   ],
   "source": [
    "a=torch.randn(2,2)\n",
    "a"
   ]
  },
  {
   "cell_type": "code",
   "execution_count": 6,
   "metadata": {},
   "outputs": [
    {
     "name": "stdout",
     "output_type": "stream",
     "text": [
      "<built-in method type of Tensor object at 0x7f891c6dd4e0>\n",
      "<class 'numpy.ndarray'>\n",
      "<built-in method type of Tensor object at 0x7f891c6dfe70>\n"
     ]
    }
   ],
   "source": [
    "torch_tensor=torch.randn(3,3)\n",
    "numpy_array=torch_tensor.numpy()\n",
    "back_to_tensor=torch.from_numpy(numpy_array);\n",
    "print(torch_tensor.type)\n",
    "print(type( numpy_array))\n",
    "print(back_to_tensor.type)"
   ]
  },
  {
   "cell_type": "code",
   "execution_count": 8,
   "metadata": {},
   "outputs": [
    {
     "name": "stdout",
     "output_type": "stream",
     "text": [
      "tensor([[-0.1391, -2.6807, -1.9350, -0.0152, -0.3484],\n",
      "        [ 0.6577,  0.3639,  0.2972, -0.2796, -0.1291],\n",
      "        [-1.3966, -0.6235,  0.1782,  0.3709,  0.3064],\n",
      "        [ 0.7550,  0.5406,  1.0577, -0.6356,  1.1670],\n",
      "        [-0.5536,  1.5947,  2.2881, -1.4525,  0.8056]])\n"
     ]
    }
   ],
   "source": [
    "a=torch.randn(5,5)\n",
    "b=torch.randn(5,5)\n",
    "print(torch.matmul(a,b))"
   ]
  },
  {
   "cell_type": "code",
   "execution_count": 15,
   "metadata": {},
   "outputs": [
    {
     "name": "stdout",
     "output_type": "stream",
     "text": [
      "tensor([[ 0.7301, -0.9104, -2.6658,  1.6842, -0.3405],\n",
      "        [ 0.1372,  1.8791, -1.1791, -0.0139,  1.3080],\n",
      "        [-0.5378, -1.4282,  1.0076,  1.1347, -1.5821],\n",
      "        [-1.8361,  0.6192,  0.2163,  0.7942, -1.1972],\n",
      "        [ 0.4986,  0.6443,  0.6936,  0.1490, -0.3498]])\n",
      "tensor(0.7301)\n",
      "0.7301007509231567\n",
      "tensor([ 0.7301, -0.9104, -2.6658,  1.6842, -0.3405])\n",
      "tensor([-0.9104,  1.8791, -1.4282,  0.6192,  0.6443])\n",
      "tensor([[-0.9104, -2.6658],\n",
      "        [ 1.8791, -1.1791],\n",
      "        [-1.4282,  1.0076]])\n"
     ]
    }
   ],
   "source": [
    "a=torch.randn(5,5)\n",
    "b=torch.randn(5,5)\n",
    "print(a)\n",
    "print(a[0,0])\n",
    "print(a[0,0].item())\n",
    "print(a[0,:]) #first row\n",
    "print(a[:,1]) #second(0+1) column\n",
    "print(a[0:3,1:3]) #combo (sub matrix from a)"
   ]
  },
  {
   "cell_type": "code",
   "execution_count": 16,
   "metadata": {},
   "outputs": [
    {
     "name": "stdout",
     "output_type": "stream",
     "text": [
      "tensor([[ 0.3219, -1.1194, -1.3008,  1.6024, -0.3142],\n",
      "        [ 1.0297,  3.3852, -1.0893, -0.4175,  0.5745],\n",
      "        [-2.0883, -2.6152,  2.6032, -0.7417, -0.3527],\n",
      "        [-0.5971,  0.0645,  1.3014,  1.0014, -1.7990],\n",
      "        [-0.2787,  1.0220,  0.5162, -0.5536, -0.4871]])\n"
     ]
    }
   ],
   "source": [
    "#addition\n",
    "print(a+b)"
   ]
  },
  {
   "cell_type": "code",
   "execution_count": 17,
   "metadata": {},
   "outputs": [
    {
     "name": "stdout",
     "output_type": "stream",
     "text": [
      "tensor([[-0.2980,  0.1903, -3.6387, -0.1378, -0.0090],\n",
      "        [ 0.1224,  2.8300, -0.1059,  0.0056, -0.9595],\n",
      "        [ 0.8338,  1.6953,  1.6078, -2.1291, -1.9450],\n",
      "        [-2.2748, -0.3435,  0.2347,  0.1645,  0.7204],\n",
      "        [-0.3875,  0.2434, -0.1230, -0.1047,  0.0480]])\n"
     ]
    }
   ],
   "source": [
    "#element wise multiplication\n",
    "c=a*b\n",
    "print(c)"
   ]
  },
  {
   "cell_type": "code",
   "execution_count": 18,
   "metadata": {},
   "outputs": [
    {
     "name": "stdout",
     "output_type": "stream",
     "text": [
      "tensor([ 5.3740,  2.4155,  0.0180,  2.8815, -0.2474])\n"
     ]
    }
   ],
   "source": [
    "#vecort multiplication\n",
    "print(a.matmul(b[:,0]))"
   ]
  },
  {
   "cell_type": "code",
   "execution_count": 19,
   "metadata": {},
   "outputs": [
    {
     "name": "stdout",
     "output_type": "stream",
     "text": [
      "torch.Size([5, 5])\n",
      "torch.Size([5])\n"
     ]
    }
   ],
   "source": [
    "a = torch.randn(5, 5)\n",
    "print(a.size())\n",
    "\n",
    "vec = a[:, 0]\n",
    "print(vec.size())"
   ]
  },
  {
   "cell_type": "code",
   "execution_count": 20,
   "metadata": {},
   "outputs": [
    {
     "name": "stdout",
     "output_type": "stream",
     "text": [
      "tensor([[ -0.9977,  -2.3234,   0.8791,  -1.1811,   1.7791],\n",
      "        [  4.0936,   0.6140,   6.2995,   3.9999,   3.3963],\n",
      "        [-11.9253,  -2.8359,  10.0397,   2.4969,   6.0632],\n",
      "        [-10.5668,  -4.8109,   5.1336,   0.2217,   3.3580],\n",
      "        [ -3.4138,   2.1147,  -7.5642,  -5.4224,  -3.1687]])\n"
     ]
    }
   ],
   "source": [
    "print(a.matmul(a))"
   ]
  },
  {
   "cell_type": "code",
   "execution_count": 24,
   "metadata": {},
   "outputs": [
    {
     "name": "stdout",
     "output_type": "stream",
     "text": [
      "tensor([[-1.2361],\n",
      "        [-1.1358],\n",
      "        [ 1.9001],\n",
      "        [ 0.2137],\n",
      "        [ 2.9185]])\n"
     ]
    }
   ],
   "source": [
    "vec_as_matrix=vec.view(5,1)\n",
    "print(vec_as_matrix)"
   ]
  },
  {
   "cell_type": "code",
   "execution_count": 27,
   "metadata": {},
   "outputs": [
    {
     "name": "stdout",
     "output_type": "stream",
     "text": [
      "tensor([[0., 0., 0., 0., 0.],\n",
      "        [0., 0., 0., 0., 0.],\n",
      "        [0., 0., 0., 0., 0.],\n",
      "        [0., 0., 0., 0., 0.],\n",
      "        [0., 0., 0., 0., 0.]])\n",
      "tensor([[1., 1., 1., 1., 1.],\n",
      "        [1., 1., 1., 1., 1.],\n",
      "        [1., 1., 1., 1., 1.],\n",
      "        [1., 1., 1., 1., 1.],\n",
      "        [1., 1., 1., 1., 1.]])\n",
      "tensor([[0.5000, 0.5000, 0.5000, 0.5000, 0.5000],\n",
      "        [0.5000, 0.5000, 0.5000, 0.5000, 0.5000],\n",
      "        [0.5000, 0.5000, 0.5000, 0.5000, 0.5000],\n",
      "        [0.5000, 0.5000, 0.5000, 0.5000, 0.5000],\n",
      "        [0.5000, 0.5000, 0.5000, 0.5000, 0.5000]])\n",
      "tensor([[0., 0., 0., 0., 0.],\n",
      "        [0., 0., 0., 0., 0.],\n",
      "        [0., 0., 0., 0., 0.],\n",
      "        [0., 0., 0., 0., 0.],\n",
      "        [0., 0., 0., 0., 0.]])\n"
     ]
    }
   ],
   "source": [
    "\n",
    "print(a)\n",
    "# Add one to all elements\n",
    "print(a.add_(1))\n",
    "# Divide all elements by 2\n",
    "print(a.div_(2))\n",
    "\n",
    "# Set all elements to 0\n",
    "print(a.zero_())"
   ]
  },
  {
   "cell_type": "code",
   "execution_count": 47,
   "metadata": {},
   "outputs": [
    {
     "name": "stdout",
     "output_type": "stream",
     "text": [
      "torch.Size([10, 10, 1])\n",
      "torch.Size([1, 10, 10])\n",
      "torch.Size([10, 1, 10])\n",
      "torch.Size([10, 10])\n"
     ]
    }
   ],
   "source": [
    "# Add a dummy dimension, e.g. (n, m) --> (n, m, 1)\n",
    "a = torch.randn(10, 10)\n",
    "\n",
    "# At the end\n",
    "# print(a.unsqueeze(-1))\n",
    "print(a.unsqueeze(-1).size())\n",
    "\n",
    "# At the beginning\n",
    "print(a.unsqueeze(0).size())\n",
    "\n",
    "# In the middle\n",
    "print(a.unsqueeze(1).size())\n",
    "\n",
    "# What you give you can take away\n",
    "print(a.unsqueeze(0).squeeze(0).size())"
   ]
  },
  {
   "cell_type": "code",
   "execution_count": 48,
   "metadata": {},
   "outputs": [
    {
     "name": "stdout",
     "output_type": "stream",
     "text": [
      "torch.Size([100, 1])\n",
      "torch.Size([50, 2])\n",
      "tensor([[0.8433],\n",
      "        [2.0102]])\n",
      "tensor([[0.8433, 0.8433, 0.8433],\n",
      "        [2.0102, 2.0102, 2.0102]])\n"
     ]
    }
   ],
   "source": [
    "# View things differently, i.e. flat\n",
    "print(a.view(100, 1).size())\n",
    "\n",
    "# Or not flat\n",
    "print(a.view(50, 2).size())\n",
    "\n",
    "# Copy data across a new dummy dimension!\n",
    "a = torch.randn(2)\n",
    "a = a.unsqueeze(-1)\n",
    "print(a)\n",
    "print(a.expand(2, 3))"
   ]
  },
  {
   "cell_type": "code",
   "execution_count": 49,
   "metadata": {},
   "outputs": [
    {
     "name": "stdout",
     "output_type": "stream",
     "text": [
      "CPU it is!\n"
     ]
    }
   ],
   "source": [
    "# Check if you have it\n",
    "do_i_have_cuda = torch.cuda.is_available()\n",
    "\n",
    "if do_i_have_cuda:\n",
    "    print('Using fancy GPUs')\n",
    "    # One way\n",
    "    a = a.cuda()\n",
    "    a = a.cpu()\n",
    "\n",
    "    # Another way\n",
    "    device = torch.device('cuda')\n",
    "    a = a.to(device)\n",
    "\n",
    "    device = torch.device('cpu')\n",
    "    a = a.to(device)\n",
    "else:\n",
    "    print('CPU it is!')"
   ]
  },
  {
   "cell_type": "code",
   "execution_count": 52,
   "metadata": {},
   "outputs": [
    {
     "name": "stdout",
     "output_type": "stream",
     "text": [
      "torch.Size([10, 5, 5])\n"
     ]
    }
   ],
   "source": [
    "# Batched matrix multiply\n",
    "a = torch.randn(10, 5, 5)\n",
    "b = torch.randn(10, 5, 5)\n",
    "\n",
    "# The same as for i in 1 ... 10, c_i = a[i].mm(b[i])\n",
    "c = a.bmm(b)\n",
    "print(c.size())"
   ]
  },
  {
   "cell_type": "code",
   "execution_count": 2,
   "metadata": {},
   "outputs": [
    {
     "name": "stdout",
     "output_type": "stream",
     "text": [
      "Python version: 3.6.13 |Anaconda, Inc.| (default, Jun  4 2021, 14:25:59) \n",
      "[GCC 7.5.0]\n"
     ]
    }
   ],
   "source": [
    "import sys\n",
    "\n",
    "print(\"Python version:\", sys.version)"
   ]
  },
  {
   "cell_type": "code",
   "execution_count": 4,
   "metadata": {},
   "outputs": [
    {
     "name": "stdout",
     "output_type": "stream",
     "text": [
      "tensor([-0.6538], requires_grad=True)\n"
     ]
    }
   ],
   "source": [
    "# A tensor that will remember gradients\n",
    "x = torch.randn(1, requires_grad=True)\n",
    "print(x)"
   ]
  },
  {
   "cell_type": "code",
   "execution_count": 5,
   "metadata": {},
   "outputs": [
    {
     "name": "stdout",
     "output_type": "stream",
     "text": [
      "None\n"
     ]
    }
   ],
   "source": [
    "print(x.grad)"
   ]
  },
  {
   "cell_type": "code",
   "execution_count": 6,
   "metadata": {},
   "outputs": [],
   "source": [
    "y = x.exp()"
   ]
  },
  {
   "cell_type": "code",
   "execution_count": 7,
   "metadata": {},
   "outputs": [],
   "source": [
    "y.backward() #To run the gradient computing magic, call '.backward()' on a variable."
   ]
  },
  {
   "cell_type": "code",
   "execution_count": 8,
   "metadata": {},
   "outputs": [
    {
     "name": "stdout",
     "output_type": "stream",
     "text": [
      "tensor([0.5200]) tensor([0.5200], grad_fn=<ExpBackward>)\n"
     ]
    }
   ],
   "source": [
    "print(x.grad, y)"
   ]
  },
  {
   "cell_type": "code",
   "execution_count": 2,
   "metadata": {},
   "outputs": [
    {
     "name": "stdout",
     "output_type": "stream",
     "text": [
      "tensor([2.4754e-12])\n",
      "tensor([[4.9066e-05, 4.5701e-41, 3.4856e+35],\n",
      "        [3.0915e-41, 4.4842e-44, 0.0000e+00]])\n"
     ]
    }
   ],
   "source": [
    "x=torch.empty(1)\n",
    "print(x)\n",
    "x=torch.empty(2,3)\n",
    "print(x)"
   ]
  },
  {
   "cell_type": "code",
   "execution_count": 5,
   "metadata": {},
   "outputs": [
    {
     "name": "stdout",
     "output_type": "stream",
     "text": [
      "3\n",
      "3\n"
     ]
    }
   ],
   "source": [
    "print(x.size(1))\n",
    "print(x.shape[1])"
   ]
  },
  {
   "cell_type": "code",
   "execution_count": 8,
   "metadata": {},
   "outputs": [
    {
     "name": "stdout",
     "output_type": "stream",
     "text": [
      "tensor([1.1000, 2.0000, 3.0000], requires_grad=True)\n"
     ]
    }
   ],
   "source": [
    "x=torch.tensor([1.1,2,3],requires_grad=True)\n",
    "print(x)"
   ]
  },
  {
   "cell_type": "code",
   "execution_count": 11,
   "metadata": {},
   "outputs": [
    {
     "name": "stdout",
     "output_type": "stream",
     "text": [
      "tensor([[2., 2.],\n",
      "        [2., 2.]])\n",
      "tensor([[2., 2.],\n",
      "        [2., 2.]])\n",
      "tensor([[2., 2.],\n",
      "        [2., 2.]])\n"
     ]
    }
   ],
   "source": [
    "x=torch.ones(2,2)\n",
    "y=torch.ones(2,2)\n",
    "z=x+y\n",
    "print(z)\n",
    "\n",
    "print(torch.add(x,y))\n",
    "print(x.add(y))"
   ]
  },
  {
   "cell_type": "code",
   "execution_count": 29,
   "metadata": {},
   "outputs": [
    {
     "name": "stdout",
     "output_type": "stream",
     "text": [
      "tensor([0.4450, 0.9876, 0.7287, 0.0646, 0.9852, 0.1018, 0.8159, 0.3569, 0.7966,\n",
      "        0.1844, 0.2107, 0.1743, 0.8182, 0.1796, 0.4678, 0.5541])\n",
      "tensor([[0.4450, 0.9876, 0.7287, 0.0646, 0.9852, 0.1018, 0.8159, 0.3569, 0.7966,\n",
      "         0.1844, 0.2107, 0.1743, 0.8182, 0.1796, 0.4678, 0.5541]])\n",
      "tensor([[0.4450, 0.9876, 0.7287, 0.0646, 0.9852, 0.1018, 0.8159, 0.3569],\n",
      "        [0.7966, 0.1844, 0.2107, 0.1743, 0.8182, 0.1796, 0.4678, 0.5541]])\n"
     ]
    }
   ],
   "source": [
    "x=torch.rand(4,4)\n",
    "print(x.view(16))\n",
    "print(x.view(1,16))\n",
    "print(x.view(-1,8))"
   ]
  },
  {
   "cell_type": "code",
   "execution_count": 50,
   "metadata": {},
   "outputs": [
    {
     "name": "stdout",
     "output_type": "stream",
     "text": [
      "tensor([ 0.1851, -0.7371, -0.5376], requires_grad=True)\n"
     ]
    }
   ],
   "source": [
    "x=torch.randn(3,requires_grad=True)\n",
    "print(x)"
   ]
  },
  {
   "cell_type": "code",
   "execution_count": 51,
   "metadata": {},
   "outputs": [],
   "source": [
    "y=2+x"
   ]
  },
  {
   "cell_type": "code",
   "execution_count": 66,
   "metadata": {},
   "outputs": [
    {
     "name": "stdout",
     "output_type": "stream",
     "text": [
      "tensor(1.6368, grad_fn=<MeanBackward0>)\n",
      "tensor(2.6791, grad_fn=<PowBackward0>)\n"
     ]
    }
   ],
   "source": [
    "print(y)\n",
    "z=y**2\n",
    "print(z)"
   ]
  },
  {
   "cell_type": "code",
   "execution_count": 67,
   "metadata": {},
   "outputs": [
    {
     "name": "stdout",
     "output_type": "stream",
     "text": [
      "tensor([4.2736, 4.2736, 4.2736])\n"
     ]
    }
   ],
   "source": [
    "z.backward()\n",
    "print(x.grad)"
   ]
  }
 ],
 "metadata": {
  "kernelspec": {
   "display_name": "Python 3 (ipykernel)",
   "language": "python",
   "name": "python3"
  },
  "language_info": {
   "codemirror_mode": {
    "name": "ipython",
    "version": 3
   },
   "file_extension": ".py",
   "mimetype": "text/x-python",
   "name": "python",
   "nbconvert_exporter": "python",
   "pygments_lexer": "ipython3",
   "version": "3.6.13"
  }
 },
 "nbformat": 4,
 "nbformat_minor": 2
}
