{
 "cells": [
  {
   "cell_type": "markdown",
   "metadata": {},
   "source": [
    "# Gradient Descent autograd\n",
    "f(x)=w*x+b \n",
    "\n",
    "f(x)=2x"
   ]
  },
  {
   "cell_type": "code",
   "execution_count": 1,
   "metadata": {},
   "outputs": [],
   "source": [
    "import torch"
   ]
  },
  {
   "cell_type": "code",
   "execution_count": 2,
   "metadata": {},
   "outputs": [
    {
     "name": "stdout",
     "output_type": "stream",
     "text": [
      "tensor([1, 2, 3, 4, 5, 6, 7, 8])\n",
      "tensor([ 2,  4,  6,  8, 10, 12, 14, 16])\n"
     ]
    }
   ],
   "source": [
    "# training examples\n",
    "x=torch.tensor([1,2,3,4,5,6,7,8])\n",
    "y=2*torch.tensor([1,2,3,4,5,6,7,8])\n",
    "print(x)\n",
    "print(y)"
   ]
  },
  {
   "cell_type": "code",
   "execution_count": 3,
   "metadata": {},
   "outputs": [],
   "source": [
    "w=torch.tensor([0.0],requires_grad=True)"
   ]
  },
  {
   "cell_type": "code",
   "execution_count": 4,
   "metadata": {},
   "outputs": [],
   "source": [
    "def forward(x):\n",
    "    return w*x"
   ]
  },
  {
   "cell_type": "code",
   "execution_count": 5,
   "metadata": {},
   "outputs": [],
   "source": [
    "def loss(y,y_pred):\n",
    "    return ((y-y_pred)**2).mean()"
   ]
  },
  {
   "cell_type": "code",
   "execution_count": 6,
   "metadata": {},
   "outputs": [
    {
     "name": "stdout",
     "output_type": "stream",
     "text": [
      " before training f(5.0)=0.0\n"
     ]
    }
   ],
   "source": [
    "X_test=5.0\n",
    "print(f\" before training f({X_test})={forward(X_test).item()}\")"
   ]
  },
  {
   "cell_type": "code",
   "execution_count": 7,
   "metadata": {},
   "outputs": [
    {
     "name": "stdout",
     "output_type": "stream",
     "text": [
      "epoch :0 w=1.0199999809265137 loss=102.0\n",
      "epoch :10 w=1.9992179870605469 loss=6.494270928669721e-05\n",
      "epoch :20 w=1.9999994039535522 loss=4.430411593148165e-11\n",
      "epoch :30 w=2.0 loss=0.0\n",
      "epoch :40 w=2.0 loss=0.0\n",
      "epoch :50 w=2.0 loss=0.0\n",
      "epoch :60 w=2.0 loss=0.0\n",
      "epoch :70 w=2.0 loss=0.0\n",
      "epoch :80 w=2.0 loss=0.0\n",
      "epoch :90 w=2.0 loss=0.0\n",
      " before training f(5.0)=10.0\n"
     ]
    }
   ],
   "source": [
    "lr=0.01\n",
    "n_epochs=100\n",
    "\n",
    "for epoch in range(n_epochs):\n",
    "    y_pred=forward(x)\n",
    "    l=loss(y,y_pred)\n",
    "    l.backward()\n",
    "    with torch.no_grad():\n",
    "        w-=lr*w.grad\n",
    "    w.grad.zero_()\n",
    "\n",
    "    if epoch%10==0:\n",
    "        print(f'epoch :{epoch} w={w.item()} loss={l.item()}')\n",
    "print(f\" before training f({X_test})={forward(X_test).item()}\")"
   ]
  }
 ],
 "metadata": {
  "kernelspec": {
   "display_name": "Python 3",
   "language": "python",
   "name": "python3"
  },
  "language_info": {
   "codemirror_mode": {
    "name": "ipython",
    "version": 3
   },
   "file_extension": ".py",
   "mimetype": "text/x-python",
   "name": "python",
   "nbconvert_exporter": "python",
   "pygments_lexer": "ipython3",
   "version": "3.6.13"
  }
 },
 "nbformat": 4,
 "nbformat_minor": 2
}
